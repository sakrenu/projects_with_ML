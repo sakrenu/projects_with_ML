{
  "nbformat": 4,
  "nbformat_minor": 0,
  "metadata": {
    "colab": {
      "provenance": []
    },
    "kernelspec": {
      "name": "python3",
      "display_name": "Python 3"
    },
    "language_info": {
      "name": "python"
    }
  },
  "cells": [
    {
      "cell_type": "code",
      "execution_count": null,
      "metadata": {
        "colab": {
          "base_uri": "https://localhost:8080/"
        },
        "id": "z4TF07IFajox",
        "outputId": "d9d5ddc5-a318-4b38-ebc6-ed80bc8b571a"
      },
      "outputs": [
        {
          "output_type": "stream",
          "name": "stdout",
          "text": [
            "Mounted at /content/drive\n"
          ]
        }
      ],
      "source": [
        "\n",
        "from google.colab import drive\n",
        "drive.mount('/content/drive')\n"
      ]
    },
    {
      "cell_type": "code",
      "source": [
        "import pandas as pd\n",
        "path=\"/content/drive/MyDrive/spam_ham_dataset.csv\"\n",
        "given_mail_data = pd.read_csv(path)\n",
        "print(given_mail_data)\n"
      ],
      "metadata": {
        "colab": {
          "base_uri": "https://localhost:8080/"
        },
        "id": "OKYVdwPqbrV4",
        "outputId": "492ccc06-4931-4fc6-838f-69c461716fa3"
      },
      "execution_count": null,
      "outputs": [
        {
          "output_type": "stream",
          "name": "stdout",
          "text": [
            "      Unnamed: 0 label                                               text  \\\n",
            "0            605   ham  Subject: enron methanol ; meter # : 988291\\r\\n...   \n",
            "1           2349   ham  Subject: hpl nom for january 9 , 2001\\r\\n( see...   \n",
            "2           3624   ham  Subject: neon retreat\\r\\nho ho ho , we ' re ar...   \n",
            "3           4685  spam  Subject: photoshop , windows , office . cheap ...   \n",
            "4           2030   ham  Subject: re : indian springs\\r\\nthis deal is t...   \n",
            "...          ...   ...                                                ...   \n",
            "5166        1518   ham  Subject: put the 10 on the ft\\r\\nthe transport...   \n",
            "5167         404   ham  Subject: 3 / 4 / 2000 and following noms\\r\\nhp...   \n",
            "5168        2933   ham  Subject: calpine daily gas nomination\\r\\n>\\r\\n...   \n",
            "5169        1409   ham  Subject: industrial worksheets for august 2000...   \n",
            "5170        4807  spam  Subject: important online banking alert\\r\\ndea...   \n",
            "\n",
            "      label_num  \n",
            "0             0  \n",
            "1             0  \n",
            "2             0  \n",
            "3             1  \n",
            "4             0  \n",
            "...         ...  \n",
            "5166          0  \n",
            "5167          0  \n",
            "5168          0  \n",
            "5169          0  \n",
            "5170          1  \n",
            "\n",
            "[5171 rows x 4 columns]\n"
          ]
        }
      ]
    },
    {
      "cell_type": "code",
      "source": [
        "ham=given_mail_data['label'].value_counts()\n",
        "print(ham)\n"
      ],
      "metadata": {
        "colab": {
          "base_uri": "https://localhost:8080/"
        },
        "id": "-Fg8mdKBcxq5",
        "outputId": "2933668a-280f-46d0-b3e8-7a8c7f6aacb5"
      },
      "execution_count": null,
      "outputs": [
        {
          "output_type": "stream",
          "name": "stdout",
          "text": [
            "ham     3672\n",
            "spam    1499\n",
            "Name: label, dtype: int64\n"
          ]
        }
      ]
    },
    {
      "cell_type": "code",
      "source": [
        "import numpy as np\n",
        "import re\n",
        "import nltk\n",
        "from sklearn.model_selection import train_test_split\n",
        "from sklearn.feature_extraction.text import TfidfVectorizer\n",
        "from sklearn.linear_model import LogisticRegression\n",
        "from sklearn.metrics import accuracy_score\n",
        "from sklearn.feature_extraction.text import CountVectorizer\n",
        "from sklearn.naive_bayes import MultinomialNB\n",
        "from nltk.corpus import stopwords\n",
        "import matplotlib.pyplot as plt\n",
        "from sklearn import metrics\n"
      ],
      "metadata": {
        "id": "Pi1zSjwqc6C0"
      },
      "execution_count": null,
      "outputs": []
    },
    {
      "cell_type": "code",
      "source": [
        "mail_data = given_mail_data.where((pd.notnull(given_mail_data)),' ')\n",
        "mail_data.head()\n",
        "mail_data.loc[mail_data['label'] == 'spam', 'label',] = 1\n",
        "mail_data.loc[mail_data['label'] == 'ham', 'label',] = 0\n",
        "\n"
      ],
      "metadata": {
        "id": "YnhrRYyac6n7"
      },
      "execution_count": null,
      "outputs": []
    },
    {
      "cell_type": "code",
      "source": [
        "X=mail_data['text']\n",
        "Y=mail_data['label_num']\n",
        "#print(X)\n",
        "#print(Y)\n",
        "X_train, X_test, Y_train, Y_test = train_test_split(X, Y, test_size=0.30)\n",
        "print((Y_test))\n",
        "print(\"X_train: \", X_train.shape)\n",
        "print(\"X_test: \", X_test.shape)\n",
        "print(\"Y_train: \", Y_train.shape)\n",
        "print(\"Y_test: \", Y_test.shape)\n",
        "\n"
      ],
      "metadata": {
        "colab": {
          "base_uri": "https://localhost:8080/"
        },
        "id": "t643E_WGc7Ug",
        "outputId": "7c6b6caf-b06f-4ba4-b156-856f9d11d34d"
      },
      "execution_count": null,
      "outputs": [
        {
          "output_type": "stream",
          "name": "stdout",
          "text": [
            "3080    0\n",
            "794     0\n",
            "1956    1\n",
            "3451    1\n",
            "2131    1\n",
            "       ..\n",
            "4939    0\n",
            "1151    0\n",
            "988     1\n",
            "670     0\n",
            "2309    1\n",
            "Name: label_num, Length: 1552, dtype: int64\n",
            "X_train:  (3619,)\n",
            "X_test:  (1552,)\n",
            "Y_train:  (3619,)\n",
            "Y_test:  (1552,)\n"
          ]
        }
      ]
    },
    {
      "cell_type": "markdown",
      "source": [
        "finding accuracy and prediciting."
      ],
      "metadata": {
        "id": "G9JQKTAGWyNo"
      }
    },
    {
      "cell_type": "code",
      "source": [
        "from sklearn.metrics import confusion_matrix\n",
        "\n",
        "Vectorizer = CountVectorizer()\n",
        "count= Vectorizer.fit_transform(X_train.values)\n",
        "print(count)\n",
        "\n",
        "feature_extraction = TfidfVectorizer(min_df = 1, stop_words='english', lowercase='True')\n",
        "X_train_features = feature_extraction.fit_transform(X_train)\n",
        "X_test_features = feature_extraction.transform(X_test)\n",
        "\n",
        "X_train_count=Vectorizer.fit_transform(X_train.values)\n",
        "\n",
        "# convert Y_train and Y_test values as integers\n",
        "\n",
        "Y_train = Y_train.astype('int')\n",
        "print(Y_train)\n",
        "Y_test = Y_test.astype('int')\n",
        "model = LogisticRegression()\n",
        "\n",
        "model.fit(X_train_features, Y_train)\n",
        "prediction_on_training_data = model.predict(X_train_features)\n",
        "accuracy_on_training_data = accuracy_score(Y_train, prediction_on_training_data)\n",
        "\n",
        "print('Accuracy on training data : ', accuracy_on_training_data)\n",
        "prediction_on_test_data = model.predict(X_test_features)\n",
        "accuracy_on_test_data = accuracy_score(Y_test, prediction_on_test_data)\n",
        "print('Accuracy on test data : ', accuracy_on_test_data)\n",
        "\n",
        "input_mail = [\" i know that this time of the year is  extremely hectic\"]\n",
        "\n",
        "# convert text to feature vectors\n",
        "input_data_features = feature_extraction.transform(input_mail)\n",
        "\n",
        "# making prediction\n",
        "\n",
        "prediction = model.predict(input_data_features)\n",
        "print(prediction)\n",
        "\n",
        "if (prediction[0]==1):\n",
        "     print('Spam mail')\n",
        "\n",
        "else:\n",
        "    print('Ham mail')\n",
        "\n",
        "\n"
      ],
      "metadata": {
        "colab": {
          "base_uri": "https://localhost:8080/"
        },
        "id": "qY0hUhk0c5qv",
        "outputId": "cee326b6-5d6c-4a68-9a48-a636581b9c56"
      },
      "execution_count": null,
      "outputs": [
        {
          "output_type": "stream",
          "name": "stdout",
          "text": [
            "  (0, 35877)\t1\n",
            "  (0, 10699)\t4\n",
            "  (0, 29522)\t3\n",
            "  (0, 13014)\t3\n",
            "  (0, 16562)\t3\n",
            "  (0, 36923)\t7\n",
            "  (0, 19642)\t2\n",
            "  (0, 7259)\t2\n",
            "  (0, 17573)\t2\n",
            "  (0, 28939)\t3\n",
            "  (0, 28195)\t2\n",
            "  (0, 40115)\t1\n",
            "  (0, 13315)\t1\n",
            "  (0, 38449)\t1\n",
            "  (0, 25813)\t1\n",
            "  (0, 22272)\t1\n",
            "  (0, 1374)\t1\n",
            "  (0, 35390)\t1\n",
            "  (0, 20890)\t2\n",
            "  (0, 40918)\t2\n",
            "  (0, 19677)\t1\n",
            "  (0, 5168)\t1\n",
            "  (0, 28194)\t1\n",
            "  (0, 40929)\t4\n",
            "  (0, 25277)\t1\n",
            "  :\t:\n",
            "  (3618, 16427)\t1\n",
            "  (3618, 36801)\t1\n",
            "  (3618, 11734)\t1\n",
            "  (3618, 22549)\t1\n",
            "  (3618, 17520)\t1\n",
            "  (3618, 11735)\t1\n",
            "  (3618, 12816)\t1\n",
            "  (3618, 26239)\t2\n",
            "  (3618, 37968)\t1\n",
            "  (3618, 23922)\t1\n",
            "  (3618, 25922)\t1\n",
            "  (3618, 27931)\t2\n",
            "  (3618, 30421)\t1\n",
            "  (3618, 36249)\t1\n",
            "  (3618, 31613)\t1\n",
            "  (3618, 5824)\t1\n",
            "  (3618, 11393)\t1\n",
            "  (3618, 12301)\t1\n",
            "  (3618, 25266)\t1\n",
            "  (3618, 20759)\t1\n",
            "  (3618, 20114)\t2\n",
            "  (3618, 40385)\t1\n",
            "  (3618, 20893)\t1\n",
            "  (3618, 37359)\t1\n",
            "  (3618, 21813)\t1\n",
            "4294    0\n",
            "3589    1\n",
            "3681    0\n",
            "2186    0\n",
            "3904    0\n",
            "       ..\n",
            "3752    0\n",
            "1759    1\n",
            "3221    0\n",
            "1980    0\n",
            "3998    0\n",
            "Name: label_num, Length: 3619, dtype: int64\n",
            "Accuracy on training data :  0.997236805747444\n",
            "Accuracy on test data :  0.9845360824742269\n",
            "[0]\n",
            "Ham mail\n"
          ]
        }
      ]
    },
    {
      "cell_type": "markdown",
      "source": [
        "confusion matrix"
      ],
      "metadata": {
        "id": "duF9xeaLWuYR"
      }
    },
    {
      "cell_type": "code",
      "source": [
        "clf = MultinomialNB()\n",
        "targets = Y_train.values\n",
        "clf.fit(count, targets)\n",
        "\n",
        "y_predict = clf.predict(Vectorizer.transform(X_test))\n",
        "y_proab=clf.predict_proba(Vectorizer.transform(X_test))[:,1]\n",
        "confusion_matrix (Y_test , y_predict)\n",
        "actual=Y_test\n",
        "pred=y_predict\n",
        "cm=metrics.confusion_matrix(actual,pred)\n",
        "from sklearn.metrics import ConfusionMatrixDisplay\n",
        "display=metrics.ConfusionMatrixDisplay(confusion_matrix = cm, display_labels = [False, True])\n",
        "display.plot();\n"
      ],
      "metadata": {
        "colab": {
          "base_uri": "https://localhost:8080/",
          "height": 279
        },
        "id": "8uV2sXw6dPbc",
        "outputId": "f3f0239f-a1b0-481e-b741-59b7b055adb6"
      },
      "execution_count": null,
      "outputs": [
        {
          "output_type": "display_data",
          "data": {
            "text/plain": [
              "<Figure size 432x288 with 2 Axes>"
            ],
            "image/png": "[encoded data removed]"
          },
          "metadata": {
            "needs_background": "light"
          }
        }
      ]
    },
    {
      "cell_type": "code",
      "source": [
        "print(confusion_matrix(Y_test,prediction_on_test_data))"
      ],
      "metadata": {
        "colab": {
          "base_uri": "https://localhost:8080/"
        },
        "id": "C5gujJtjdtKx",
        "outputId": "819f08c1-1661-405c-8b32-0e75b920d3c5"
      },
      "execution_count": null,
      "outputs": [
        {
          "output_type": "stream",
          "name": "stdout",
          "text": [
            "[[1071   16]\n",
            " [  12  453]]\n"
          ]
        }
      ]
    },
    {
      "cell_type": "markdown",
      "source": [
        "plots of threshold vs specificity , sensitivity and accuracy\n"
      ],
      "metadata": {
        "id": "o70Ysr8hWjvJ"
      }
    },
    {
      "cell_type": "code",
      "source": [
        "from sklearn import metrics\n",
        "specificity=[]\n",
        "fpr,tpr,thresholds=metrics.roc_curve(Y_test,y_proab)\n",
        "#tn,fp,fn,tp=confusion_matrix(Y_test,y_predict)\n",
        "\n",
        "for ele in fpr:\n",
        "  specificity.append(1-ele)\n",
        "\n",
        "plt.xlabel('threshold')\n",
        "plt.ylabel('sensitivity')\n",
        "plt.xlim([-0.025,1])\n",
        "plt.plot(thresholds,tpr)\n",
        "plt.show()\n",
        "\n"
      ],
      "metadata": {
        "colab": {
          "base_uri": "https://localhost:8080/",
          "height": 279
        },
        "id": "1yyqThykeu0o",
        "outputId": "895fc35a-0f20-42d9-d73d-382c8d47efc9"
      },
      "execution_count": null,
      "outputs": [
        {
          "output_type": "display_data",
          "data": {
            "text/plain": [
              "<Figure size 432x288 with 1 Axes>"
            ],
            "image/png": "[encoded data removed]"
          },
          "metadata": {
            "needs_background": "light"
          }
        }
      ]
    },
    {
      "cell_type": "code",
      "source": [
        "specificity=[]\n",
        "fpr,tpr,thresholds=metrics.roc_curve(Y_test,y_proab)\n",
        "#tn,fp,fn,tp=confusion_matrix(Y_test,y_predict)\n",
        "\n",
        "for ele in fpr:\n",
        "  specificity.append(1-ele)\n",
        "\n",
        "plt.xlabel('thresh')\n",
        "plt.ylabel('sensitivity')\n",
        "plt.xlim([-0.025,1])\n",
        "plt.plot(thresholds,tpr)\n",
        "plt.title('sensitivity vs threshold')\n",
        "plt.show()\n",
        "\n"
      ],
      "metadata": {
        "colab": {
          "base_uri": "https://localhost:8080/",
          "height": 295
        },
        "id": "SBb5irOieA72",
        "outputId": "7ed716e7-6ae6-4088-84f2-8767f0d01aef"
      },
      "execution_count": null,
      "outputs": [
        {
          "output_type": "display_data",
          "data": {
            "text/plain": [
              "<Figure size 432x288 with 1 Axes>"
            ],
            "image/png": "[encoded data removed]"
          },
          "metadata": {
            "needs_background": "light"
          }
        }
      ]
    },
    {
      "cell_type": "code",
      "source": [
        "tn,fp,fn,tp=cm.ravel()\n",
        "totalpos=tp+fn\n",
        "print(totalpos)\n",
        "totalneg=tn+fp\n",
        "total=totalneg+totalpos\n",
        "TP=[]\n",
        "TN=[]\n",
        "accuracy=[]\n",
        "for ele in specificity:\n",
        "  TN.append(ele*totalneg)\n",
        "print(len(TN))\n",
        "for ele in tpr:\n",
        "  TP.append(ele*totalpos)\n",
        "print(len(TP))\n",
        "for i in range(len(fpr)):\n",
        "  accuracy.append((TN[i]+TP[i])/total)\n",
        "\n",
        "plt.xlabel('threshold')\n",
        "plt.ylabel('accuracy')\n",
        "plt.xlim([-0.025,1])\n",
        "plt.title('accuracy vs threshold')\n",
        "plt.plot(thresholds,accuracy)\n",
        "plt.show()\n"
      ],
      "metadata": {
        "colab": {
          "base_uri": "https://localhost:8080/",
          "height": 347
        },
        "id": "psHWtRHge432",
        "outputId": "12d0a2ed-f8af-4571-daaf-681aa1ead730"
      },
      "execution_count": null,
      "outputs": [
        {
          "output_type": "stream",
          "name": "stdout",
          "text": [
            "451\n",
            "81\n",
            "81\n"
          ]
        },
        {
          "output_type": "display_data",
          "data": {
            "text/plain": [
              "<Figure size 432x288 with 1 Axes>"
            ],
            "image/png": "[encoded data removed]"
          },
          "metadata": {
            "needs_background": "light"
          }
        }
      ]
    },
    {
      "cell_type": "code",
      "source": [
        "Accuracy = metrics.accuracy_score(actual, pred)\n",
        "print((Accuracy*100),'%')\n"
      ],
      "metadata": {
        "colab": {
          "base_uri": "https://localhost:8080/"
        },
        "id": "19YyqmL0-Hxk",
        "outputId": "a860f22f-7b3b-457d-a290-ca59cfa9863b"
      },
      "execution_count": null,
      "outputs": [
        {
          "output_type": "stream",
          "name": "stdout",
          "text": [
            "97.48711340206185 %\n"
          ]
        }
      ]
    },
    {
      "cell_type": "code",
      "source": [
        "specificity=[]\n",
        "for ele in fpr:\n",
        "  specificity.append(1-ele)\n",
        "\n",
        "plt.xlabel('threshold')\n",
        "plt.ylabel ('specificivity')\n",
        "plt.plot(thresholds,specificity)\n",
        "plt.title('specificity vs threshold')\n",
        "plt.show()\n"
      ],
      "metadata": {
        "colab": {
          "base_uri": "https://localhost:8080/",
          "height": 295
        },
        "id": "awsqsJGOh9OS",
        "outputId": "5d599932-ec60-4d60-f2b8-88f9fd0f7b02"
      },
      "execution_count": null,
      "outputs": [
        {
          "output_type": "display_data",
          "data": {
            "text/plain": [
              "<Figure size 432x288 with 1 Axes>"
            ],
            "image/png": "[encoded data removed]"
          },
          "metadata": {
            "needs_background": "light"
          }
        }
      ]
    },
    {
      "cell_type": "code",
      "source": [],
      "metadata": {
        "id": "65iXx05r_VA5"
      },
      "execution_count": null,
      "outputs": []
    }
  ]
}